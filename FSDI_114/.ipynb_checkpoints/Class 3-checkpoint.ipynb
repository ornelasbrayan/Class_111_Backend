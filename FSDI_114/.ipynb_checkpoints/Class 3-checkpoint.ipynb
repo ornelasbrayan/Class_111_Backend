{
 "cells": [
  {
   "cell_type": "code",
   "execution_count": 2,
   "id": "7016895b",
   "metadata": {},
   "outputs": [],
   "source": [
    "class Queue:\n",
    "    class Node:\n",
    "        def __init__(self,data):\n",
    "            self.data = data\n",
    "            self.next = None\n",
    "    def __init__(self):\n",
    "        self.back = None\n",
    "\n",
    "    def enqueue(self,element):\n",
    "        new_node = self.Node(element)\n",
    "        if not self.back:\n",
    "            self.back = new_node\n",
    "        else:\n",
    "            new_node.next = self.back\n",
    "            self.back = new_node\n",
    "\n",
    "    def dequeue(self):\n",
    "        if not self.base:\n",
    "            raise IndexError(\"Queue empty\")\n",
    "        else:\n",
    "            current = self.base\n",
    "            prev = None\n",
    "            while current.next:\n",
    "                prev = current\n",
    "                current = current.next\n",
    "            if not prev:\n",
    "                datum = current.data\n",
    "                self.base = None\n",
    "                return datum\n",
    "            else:\n",
    "                datum = current.data\n",
    "                prev.next = None\n",
    "                return datum\n",
    "\n",
    "    def size(self):\n",
    "        pass\n",
    "\n",
    "    def peek(self):\n",
    "        pass\n",
    "\n",
    "    def sum(self):\n",
    "        if type(mydata) != int:\n",
    "            raise TypeError(\"Operation\")\n",
    "        #return the sum of data elements if they are all numerical values\n",
    "\n",
    "    def is_empty(self):\n",
    "        return self.back == None"
   ]
  },
  {
   "cell_type": "code",
   "execution_count": 3,
   "id": "d4f6017b",
   "metadata": {},
   "outputs": [],
   "source": [
    "# Recursion\n",
    "def fact(n):\n",
    "    if n == 0:\n",
    "        return 1\n",
    "    return n*fact(n-1)"
   ]
  },
  {
   "cell_type": "code",
   "execution_count": 4,
   "id": "2a6dd96c",
   "metadata": {},
   "outputs": [
    {
     "data": {
      "text/plain": [
       "3628800"
      ]
     },
     "execution_count": 4,
     "metadata": {},
     "output_type": "execute_result"
    }
   ],
   "source": [
    "from functools import lru_cache\n",
    "\n",
    "def fib(n):\n",
    "    if n < 2:\n",
    "        return n\n",
    "    return fib(n-1) + fib(n-2)\n",
    "fib(8)\n",
    "\n",
    "fact(10)"
   ]
  },
  {
   "cell_type": "code",
   "execution_count": 6,
   "id": "81e0ba0d",
   "metadata": {},
   "outputs": [],
   "source": [
    "# Linked lists\n",
    "# We're going to concern ourselves with two types of LLs:\n",
    "# 1. Singly Linked lists\n",
    "# 2. Doubly Linked lists\n",
    "\n",
    "# A singly linked lists is uni-directional. Every node in the list references the next node.\n",
    "# A double linked list is bi-directional. Every node in the list reference the precious node as well as the next node."
   ]
  },
  {
   "cell_type": "code",
   "execution_count": 7,
   "id": "26b8f5ab",
   "metadata": {},
   "outputs": [],
   "source": [
    "# We're going to implement:\n",
    "# Append\n",
    "# Remove\n",
    "# Insert\n",
    "# Index\n",
    "# We're going to override the str method so that our list prints exactly like pyhton lists."
   ]
  },
  {
   "cell_type": "code",
   "execution_count": null,
   "id": "0b3b1f15",
   "metadata": {},
   "outputs": [],
   "source": [
    "class SinglyLinkedList:\n",
    "    class Node:\n",
    "        def __init__(self,data):\n",
    "            self.data = data\n",
    "            self.next = None\n",
    "    def __init__(self):\n",
    "        self.head = None\n",
    "    \n",
    "    def append(self, value):\n",
    "        pass\n",
    "    \n",
    "    def remove(self,value):\n",
    "        pass\n",
    "    \n",
    "    def insert(self,index):\n",
    "        pass\n",
    "    \n",
    "    def index(self,index):\n",
    "        pass"
   ]
  }
 ],
 "metadata": {
  "kernelspec": {
   "display_name": "Python 3 (ipykernel)",
   "language": "python",
   "name": "python3"
  },
  "language_info": {
   "codemirror_mode": {
    "name": "ipython",
    "version": 3
   },
   "file_extension": ".py",
   "mimetype": "text/x-python",
   "name": "python",
   "nbconvert_exporter": "python",
   "pygments_lexer": "ipython3",
   "version": "3.10.6"
  }
 },
 "nbformat": 4,
 "nbformat_minor": 5
}
