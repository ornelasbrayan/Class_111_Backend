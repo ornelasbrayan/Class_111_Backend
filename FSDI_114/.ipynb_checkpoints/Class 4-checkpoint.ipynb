{
 "cells": [
  {
   "cell_type": "code",
   "execution_count": 20,
   "id": "1a1351c6",
   "metadata": {},
   "outputs": [
    {
     "ename": "IndentationError",
     "evalue": "expected an indented block after 'else' statement on line 28 (1811868396.py, line 33)",
     "output_type": "error",
     "traceback": [
      "\u001b[0;36m  Cell \u001b[0;32mIn[20], line 33\u001b[0;36m\u001b[0m\n\u001b[0;31m    def __str__(self):\u001b[0m\n\u001b[0m    ^\u001b[0m\n\u001b[0;31mIndentationError\u001b[0m\u001b[0;31m:\u001b[0m expected an indented block after 'else' statement on line 28\n"
     ]
    }
   ],
   "source": [
    "# SinglyLinkedList implementation\n",
    "\n",
    "class SinglyLinkedList:\n",
    "    class Node:\n",
    "        def __init__(self, data):\n",
    "            self.data = data\n",
    "            self.next = None\n",
    "    \n",
    "    def __init__(self):\n",
    "        self.head = None\n",
    "    \n",
    "    def append(self, value):\n",
    "        new_node = self.Node(value)\n",
    "        if not self.head:               # if self.head == None\n",
    "            self.head = new_node\n",
    "        else:\n",
    "            current = self.head\n",
    "            while current.next:\n",
    "                current = current.next\n",
    "            current.next = new_node\n",
    "    \n",
    "    def insert(self, index, value):\n",
    "        new_node = self.Node(value)\n",
    "        if not self.head:\n",
    "            new_node.next = self.head\n",
    "            self.head = new_node\n",
    "        else:\n",
    "            count = 0\n",
    "            current = self.head\n",
    "            prev = None\n",
    "            while count != index and current.next:\n",
    "                prev = current\n",
    "                current = current.next\n",
    "                count += 1\n",
    "            if not prev:\n",
    "                self.head = new_node\n",
    "            if count == index:\n",
    "                \n",
    "                \n",
    "              \n",
    "            \n",
    "                \n",
    "    \n",
    "    def __str__(self):\n",
    "        out = \"[\"\n",
    "        if self.head:\n",
    "            out += \"%s\" % self.head.data\n",
    "            current = self.head.next\n",
    "            while current:                 # while current != None\n",
    "                out += \", %s\" % current.data\n",
    "                current = current.next\n",
    "        out += \"]\"\n",
    "        return out\n",
    "        "
   ]
  },
  {
   "cell_type": "code",
   "execution_count": 4,
   "id": "7fe844a6",
   "metadata": {},
   "outputs": [
    {
     "name": "stdout",
     "output_type": "stream",
     "text": [
      "[]\n",
      "[1]\n",
      "[1, 2, 3]\n"
     ]
    }
   ],
   "source": [
    "# How python usually prints lists:\n",
    "# Empty list:\n",
    "print([])\n",
    "# List with a single element:\n",
    "print([1])\n",
    "# List with more than one element:\n",
    "print([1, 2, 3])"
   ]
  },
  {
   "cell_type": "code",
   "execution_count": 2,
   "id": "4fcec4e0",
   "metadata": {},
   "outputs": [
    {
     "name": "stdout",
     "output_type": "stream",
     "text": [
      "[]\n",
      "[1]\n",
      "[1, 1, 2, 3]\n"
     ]
    }
   ],
   "source": [
    "\n",
    "sll = SinglyLinkedList()\n",
    "\n",
    "# Empty list:\n",
    "print(sll)\n",
    "\n",
    "# List with single element:\n",
    "sll.append(1)\n",
    "print(sll)\n",
    "\n",
    "# List with more than one element:\n",
    "for number in range(1, 4):\n",
    "    sll.append(number)\n",
    "\n",
    "print(sll)"
   ]
  },
  {
   "cell_type": "code",
   "execution_count": 18,
   "id": "548235a3",
   "metadata": {},
   "outputs": [
    {
     "name": "stdout",
     "output_type": "stream",
     "text": [
      "[1, 2, 3, 5, 6]\n"
     ]
    }
   ],
   "source": [
    "mylist = [1, 2, 3, 6]\n",
    "\n",
    "mylist.insert(3, 5)\n",
    "\n",
    "print(mylist)\n",
    "\n",
    "\n"
   ]
  },
  {
   "cell_type": "code",
   "execution_count": 21,
   "id": "dff25f8b",
   "metadata": {},
   "outputs": [],
   "source": [
    "# Pseudocode implementation of insert\n",
    "# define function insert with parameters index and value:\n",
    "# create a new Node with the provided value\n",
    "# if the list is empty                // represented by the fact that head is set to None\n",
    "\t# then, simply update our new node's \"next\" reference so it points to the head\n",
    "    # and, update the head reference so it points to our new node.\n",
    "# otherwise\n",
    "\t# // we need to validate that the index is within our list\n",
    "    # // create a variable to keep track of how many times we've traversed (moved from one node to another)\n",
    "    # count = 0\n",
    "    # my variable current is set to the head node\n",
    "    # create a reference to the previous node (called previous) which starts off as None\n",
    "    # while count does not equal index and there is a next node to traverse into (current.next)\n",
    "    \t# previous is updated to point to the same node as current\n",
    "        # current is updated to the next node in the sequence\n",
    "        # add 1 to count\n",
    "    # if previous was never updated, then, it means there was only one node in my list\n",
    "    \t# append the newly created node to my list\n",
    "    # otherwise, if count is equal to the given index:\n",
    "    # // this means, we were able to find the index within the scope of our list\n",
    "    # previous next reference is updated to point to our newly created node\n",
    "    # our newly created node's next reference is updated to point to current\n",
    "    \t# otherwise\n",
    "        # // this case happens when index > count\n",
    "        # append the newly created node to my list"
   ]
  },
  {
   "cell_type": "code",
   "execution_count": 27,
   "id": "91fa5fa3",
   "metadata": {},
   "outputs": [],
   "source": [
    "# Doubly Linked List implementation\n",
    "\n",
    "class DoublyLinkedList:\n",
    "    class Node:\n",
    "        def __init__(self, data):\n",
    "            self.data = data\n",
    "            self.next = None\n",
    "            self.prev = None\n",
    "    def __init__(self):\n",
    "        self.head = None\n",
    "        self.tail = None\n",
    "        self.length = 0\n",
    "        \n",
    "    def append(self, value):\n",
    "        new_node = self.Node(value)\n",
    "        if self.tail:\n",
    "            self.tail.next = new_node\n",
    "            new_node.prev = self.tail\n",
    "            self.length += 1\n",
    "        if not self.head:\n",
    "            self.head = new_node\n",
    "            self.tail = new_node\n",
    "            self.length += 1\n",
    "        else:\n",
    "            current = self.head\n",
    "            while current.next:\n",
    "                current = current.next\n",
    "            current.next = new_node\n",
    "            new_node.prev = current\n",
    "            self.length += 1\n",
    "            \n",
    "    def search(self, value):\n",
    "        if not self.head:\n",
    "            return False\n",
    "        else:\n",
    "            current = self.head\n",
    "            tail = self.tail\n",
    "            while current.data != value and current != tail:\n",
    "            \t# traverse\n",
    "                if current.data != value and tail.data != value:\n",
    "                    current = current.next\n",
    "                    tail = tail.prev\n",
    "                else:\n",
    "                    return True\n",
    "        return False\n",
    "    \n",
    "    def binary_search(self, value):\n",
    "        pass\n",
    "     \n",
    "    def __str__(self):\n",
    "        out = \"[\"\n",
    "        if self.head:\n",
    "            out += \"%s\" % self.head.data\n",
    "            current = self.head.next\n",
    "            while current:                 # while current != None\n",
    "                out += \", %s\" % current.data\n",
    "                current = current.next\n",
    "        out += \"]\"\n",
    "        return out\n",
    "            "
   ]
  },
  {
   "cell_type": "code",
   "execution_count": 26,
   "id": "391035d2",
   "metadata": {},
   "outputs": [
    {
     "name": "stdout",
     "output_type": "stream",
     "text": [
      "[]\n",
      "[1, 2, 3]\n"
     ]
    }
   ],
   "source": [
    "dll = DoublyLinkedList()\n",
    "\n",
    "# Empty list:\n",
    "print(dll)\n",
    "\n",
    "\n",
    "dll.append(1)\n",
    "dll.append(2)\n",
    "dll.append(3)\n",
    "print(dll)\n"
   ]
  },
  {
   "cell_type": "markdown",
   "id": "7c758cdc",
   "metadata": {},
   "source": [
    "#"
   ]
  },
  {
   "cell_type": "markdown",
   "id": "f227aa0d",
   "metadata": {},
   "source": [
    "# Challenge 1\n",
    "\n",
    "### Given two integers as parameters, create a box. The box must be comprised of \"*\".\n",
    "\n",
    "#### Example:\n",
    "\n",
    "```\n",
    "myfunction(2, 2) should return:\n",
    "**\n",
    "**\n",
    "\n",
    "myfunction(3, 3) should return:\n",
    "***\n",
    "* *\n",
    "***\n",
    "\n",
    "myfunction(5, 5) should return:\n",
    "*****\n",
    "*   *\n",
    "*   *\n",
    "*   *\n",
    "*****\n",
    "```\n",
    "\n",
    "Parameters will not always be the same."
   ]
  },
  {
   "cell_type": "code",
   "execution_count": null,
   "id": "b555ff8c",
   "metadata": {},
   "outputs": [],
   "source": []
  }
 ],
 "metadata": {
  "kernelspec": {
   "display_name": "Python 3 (ipykernel)",
   "language": "python",
   "name": "python3"
  },
  "language_info": {
   "codemirror_mode": {
    "name": "ipython",
    "version": 3
   },
   "file_extension": ".py",
   "mimetype": "text/x-python",
   "name": "python",
   "nbconvert_exporter": "python",
   "pygments_lexer": "ipython3",
   "version": "3.10.6"
  }
 },
 "nbformat": 4,
 "nbformat_minor": 5
}
