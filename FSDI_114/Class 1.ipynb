{
 "cells": [
  {
   "cell_type": "code",
   "execution_count": 1,
   "id": "d7278256",
   "metadata": {
    "scrolled": false
   },
   "outputs": [
    {
     "name": "stdout",
     "output_type": "stream",
     "text": [
      "H\n",
      "e\n",
      "l\n",
      "l\n",
      "o\n",
      ",\n",
      " \n",
      "W\n",
      "o\n",
      "r\n",
      "l\n",
      "d\n"
     ]
    }
   ],
   "source": [
    "for letter in \"Hello, World\":\n",
    "    print(letter)\n",
    "    "
   ]
  },
  {
   "cell_type": "code",
   "execution_count": 2,
   "id": "ee5a7921",
   "metadata": {},
   "outputs": [],
   "source": [
    "# Challenge 1: Anagrame checker\n",
    "# Given two strings(string_a and string_b) write a function that returns, True if these are anagrams of each other, False otherwise.\\\n",
    "# Crieria\n",
    "\n",
    "# two strings are anagrams of each other if all the conditions below are met:\n",
    "\n",
    "# They must be of equal length.\n",
    "# They must use the exact same characteres (the same amount of time)\n",
    "# heart and earth\n",
    "# cars anf scar\n",
    "# rats and star\n"
   ]
  },
  {
   "cell_type": "code",
   "execution_count": 3,
   "id": "008d471e",
   "metadata": {},
   "outputs": [],
   "source": [
    "#Assesment/ Assembly/ Action\n",
    "\n",
    "def anagram_check(string_a,string_b):\n",
    "    string_a =string_a.lower().replace(\" \", \"\")\n",
    "    string_b =string_b.lower().replace(\" \", \"\")\n",
    "    if len(string_a) != len(string_b):\n",
    "        return False\n",
    "    seen_a=dict()\n",
    "    seen_b=dict()\n",
    "    for index in range(len(string_a)):\n",
    "       if string_a[index] in seen_a.keys():\n",
    "            string_a[index]+=1 \n",
    "       else:\n",
    "            string_a[index]=1\n",
    "       if string_b[index] in seen_b.keys():\n",
    "            string_b[index]+=1\n",
    "       else:\n",
    "          string_b[index]=1\n",
    "    return seen_a ==seen_b"
   ]
  },
  {
   "cell_type": "code",
   "execution_count": null,
   "id": "8c2a21be",
   "metadata": {},
   "outputs": [],
   "source": []
  },
  {
   "cell_type": "code",
   "execution_count": null,
   "id": "deb5f725",
   "metadata": {},
   "outputs": [],
   "source": []
  }
 ],
 "metadata": {
  "kernelspec": {
   "display_name": "Python 3 (ipykernel)",
   "language": "python",
   "name": "python3"
  },
  "language_info": {
   "codemirror_mode": {
    "name": "ipython",
    "version": 3
   },
   "file_extension": ".py",
   "mimetype": "text/x-python",
   "name": "python",
   "nbconvert_exporter": "python",
   "pygments_lexer": "ipython3",
   "version": "3.10.6"
  }
 },
 "nbformat": 4,
 "nbformat_minor": 5
}
