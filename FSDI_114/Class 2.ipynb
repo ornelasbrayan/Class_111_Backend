{
 "cells": [
  {
   "cell_type": "code",
   "execution_count": 4,
   "id": "abe689dc",
   "metadata": {},
   "outputs": [],
   "source": [
    "#The simplifield approach\n",
    "\n",
    "class Stack:\n",
    "    def __init__(self):\n",
    "        self.items = []\n",
    "\n",
    "    def push(self,element):\n",
    "        self.items.append(element)\n",
    "\n",
    "    def pop(self):\n",
    "        return self.items.pop()\n",
    "\n",
    "    #nice to have methods: \n",
    "    def is_empty(self):\n",
    "        return self.items ==[]\n",
    "    def size(self):\n",
    "        return len(self.items)\n",
    "\n",
    "    def peek(self):\n",
    "        return self.items[len(self.items)-1]"
   ]
  },
  {
   "cell_type": "code",
   "execution_count": 5,
   "id": "b2e79c6e",
   "metadata": {},
   "outputs": [
    {
     "data": {
      "text/plain": [
       "'nayarB'"
      ]
     },
     "execution_count": 5,
     "metadata": {},
     "output_type": "execute_result"
    }
   ],
   "source": [
    "def invert_str(mystring):\n",
    "    stack= Stack()\n",
    "    for letter in mystring:\n",
    "        stack.push(letter)\n",
    "    out =\"\"\n",
    "    while not stack.is_empty():\n",
    "        out+= stack.pop()\n",
    "    return out\n",
    "invert_str(\"Brayan\")"
   ]
  },
  {
   "cell_type": "code",
   "execution_count": 6,
   "id": "afdbe36a",
   "metadata": {},
   "outputs": [],
   "source": [
    "class Node:\n",
    "    def init(self,data):\n",
    "        self.data =data\n",
    "        self.above=None"
   ]
  },
  {
   "cell_type": "code",
   "execution_count": 13,
   "id": "fb751fb0",
   "metadata": {},
   "outputs": [
    {
     "ename": "IndentationError",
     "evalue": "expected an indented block after function definition on line 44 (1394059085.py, line 47)",
     "output_type": "error",
     "traceback": [
      "\u001b[0;36m  Cell \u001b[0;32mIn[13], line 47\u001b[0;36m\u001b[0m\n\u001b[0;31m    def __len__(self):\u001b[0m\n\u001b[0m    ^\u001b[0m\n\u001b[0;31mIndentationError\u001b[0m\u001b[0;31m:\u001b[0m expected an indented block after function definition on line 44\n"
     ]
    }
   ],
   "source": [
    "class Stack:\n",
    "    def __init__(self):\n",
    "        self.base=None\n",
    "\n",
    "    def push(self,element):\n",
    "        #what happens if our stack is empty and push is called?\n",
    "        new_node= Node(element)\n",
    "        if not self.base:\n",
    "            self.base= new_node\n",
    "        else:\n",
    "            current =self.base\n",
    "            while current.above:\n",
    "                current= current.above\n",
    "                current.above=new_node\n",
    "    def pop(self):\n",
    "        if not self.base:   #equivalent to \"if self.base== None\"\n",
    "            raise IndexError(\"Stack is empty\") #raise an exception\n",
    "        else:\n",
    "            current= self.base\n",
    "            prev= None\n",
    "            while current.above:\n",
    "                prev=current\n",
    "                current= current.above\n",
    "            if not prev:\n",
    "                datum=self.base.data\n",
    "                self.base=None\n",
    "                return datum\n",
    "            else:\n",
    "                datum=current.data\n",
    "                prev.above=None\n",
    "                return datum\n",
    "\n",
    "    def is_empty(self):\n",
    "        return self.base== None\n",
    "\n",
    "    def size(self):\n",
    "        count= 0\n",
    "        current = self.base\n",
    "        while current:\n",
    "            count += 1\n",
    "            current = current.above\n",
    "        return count\n",
    "\n",
    "    def peek(self):\n",
    "\n",
    "\n",
    "    def __len__(self):\n",
    "    \treturn self.size()"
   ]
  },
  {
   "cell_type": "code",
   "execution_count": 14,
   "id": "4fc6a508",
   "metadata": {},
   "outputs": [
    {
     "name": "stdout",
     "output_type": "stream",
     "text": [
      "6\n",
      "140623450309008\n",
      "140623450308976\n"
     ]
    }
   ],
   "source": [
    "#primary data types\n",
    "#int, float, bool, imaginary\n",
    "#pass dby value\n",
    "\n",
    "x=5\n",
    "y=x\n",
    "x=x+1\n",
    "print(x)\n",
    "print(id(x))\n",
    "print(id(y))"
   ]
  },
  {
   "cell_type": "code",
   "execution_count": 15,
   "id": "f574c85a",
   "metadata": {},
   "outputs": [
    {
     "name": "stdout",
     "output_type": "stream",
     "text": [
      "[1, 2, 3, 4]\n"
     ]
    }
   ],
   "source": [
    "#other data types\n",
    "#Pass by reference\n",
    "\n",
    "x=[1,2,3]\n",
    "y=x\n",
    "\n",
    "x.append(4)\n",
    "print(y)"
   ]
  },
  {
   "cell_type": "code",
   "execution_count": 27,
   "id": "5ceafc85",
   "metadata": {},
   "outputs": [],
   "source": [
    "class Queue:\n",
    "    def init(self):\n",
    "        self.items=[]\n",
    "    def enqueue(self, element):\n",
    "        self.items.insert(0, element)\n",
    "\n",
    "    def dequeue(self):\n",
    "        return self.items.pop()\n",
    "    #nice to have\n",
    "    def is_empty(self):\n",
    "        return self.items ==[]\n",
    "\n",
    "    def size(self):\n",
    "        return len(self.items)\n",
    "\n",
    "    def peek(self):\n",
    "        if not self.base:\n",
    "            return None\n",
    "        else:\n",
    "            current = self.base\n",
    "            while current.above:\n",
    "                current = current.above\n",
    "            return current.data\n",
    "    "
   ]
  },
  {
   "cell_type": "code",
   "execution_count": null,
   "id": "2f52f6c1",
   "metadata": {},
   "outputs": [],
   "source": []
  }
 ],
 "metadata": {
  "kernelspec": {
   "display_name": "Python 3 (ipykernel)",
   "language": "python",
   "name": "python3"
  },
  "language_info": {
   "codemirror_mode": {
    "name": "ipython",
    "version": 3
   },
   "file_extension": ".py",
   "mimetype": "text/x-python",
   "name": "python",
   "nbconvert_exporter": "python",
   "pygments_lexer": "ipython3",
   "version": "3.10.6"
  }
 },
 "nbformat": 4,
 "nbformat_minor": 5
}
